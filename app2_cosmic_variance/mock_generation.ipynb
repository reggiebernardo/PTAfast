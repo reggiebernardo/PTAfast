{
 "cells": [
  {
   "cell_type": "code",
   "execution_count": 1,
   "id": "cfc68dd7-1e84-4ca2-9cd9-e506aa60f241",
   "metadata": {},
   "outputs": [],
   "source": [
    "%matplotlib inline\n",
    "from matplotlib import pyplot as plt\n",
    "\n",
    "import numpy as np\n",
    "np.random.seed(42) # fix randomness\n",
    "\n",
    "from PTAfast.tensor import Tensor"
   ]
  },
  {
   "cell_type": "markdown",
   "id": "db4149ad-16cf-4cc0-a59e-a1f033655f79",
   "metadata": {},
   "source": [
    "### Mock data generation"
   ]
  },
  {
   "cell_type": "markdown",
   "id": "444fd1ea-8b92-4af8-b6a5-839b2fa76e1a",
   "metadata": {},
   "source": [
    "For our mock data, we bury the GWB correlation of fixed amplitude $A_{\\rm gwb} = 10^{-15}$ signal in noise."
   ]
  },
  {
   "cell_type": "code",
   "execution_count": 2,
   "id": "d72f4b8d-4068-4e2a-8c40-a07734d594f2",
   "metadata": {},
   "outputs": [
    {
     "data": {
      "image/png": "[encoded data removed]",
      "text/plain": [
       "<Figure size 640x480 with 1 Axes>"
      ]
     },
     "metadata": {},
     "output_type": "display_data"
    }
   ],
   "source": [
    "# mock = tensor + uniform noise\n",
    "lMax =  60\n",
    "fD = 100\n",
    "TensorPTAfast = Tensor(lm = lMax, v = 1, fD = fD)\n",
    "\n",
    "n_tta = 15 # equally spaced points in angle separation\n",
    "tta = np.linspace(0, np.pi, n_tta + 1)[1:n_tta]\n",
    "TensorORF = TensorPTAfast.get_ORF(tta)\n",
    "\n",
    "def mock_orf(r1, r2, sigma, n_outliers=0, mean_offset=0, std_offset=0):\n",
    "    gwb = TensorORF['ORF']\n",
    "    ns = np.random.normal(0, sigma, size=len(tta))\n",
    "    \n",
    "    # Add non-stationary noise\n",
    "    f = np.linspace(0, 0.5*fD, len(tta))\n",
    "    alpha = 1.5\n",
    "    beta = 2.5\n",
    "    A = 0.5\n",
    "    ns *= (f**alpha) / ((f**alpha) \\\n",
    "                        + ((f/beta)**(alpha-1) + 1e-6)) + A*(f/fD)**2\n",
    "    \n",
    "    # Add random offset to mean and standard deviation\n",
    "    offset = np.random.normal(mean_offset, std_offset)\n",
    "    data = gwb + (r1**2)*(ns + offset) \\\n",
    "    + (r2**2)*np.random.uniform(0, 1, size=len(tta))\n",
    "    \n",
    "    # Add outliers\n",
    "    if n_outliers > 0:\n",
    "        idx = np.random.choice(len(tta), size=n_outliers, replace=False)\n",
    "        data[idx] += np.random.normal(0, 1, size=n_outliers)\n",
    "    \n",
    "    # Add a small constant value to the noise\n",
    "    data += 1e-6\n",
    "    \n",
    "    return data\n",
    "\n",
    "# generate mock with unc with 1000 samples\n",
    "r1_mock = 0.1\n",
    "r2_mock = 0.1 # uniform noise\n",
    "sigma_mock = 0.3\n",
    "N_plsr = 100\n",
    "N_samp = int(N_plsr*(N_plsr - 1)/2)\n",
    "data = []\n",
    "for i in np.arange(0, N_samp):\n",
    "    data.append(mock_orf(r1 = r1_mock, r2 = r2_mock, \\\n",
    "                         sigma = sigma_mock, n_outliers = 1, \\\n",
    "                         mean_offset = 0.1, std_offset = 0.1)) # adding mean and std offsets\n",
    "data = np.array(data)\n",
    "\n",
    "ave_data = []\n",
    "err_data = []\n",
    "for i in np.arange(0, len(tta)):\n",
    "    ave_data.append(np.mean(data[:, i]))\n",
    "    err_data.append(np.std(data[:, i]))\n",
    "ave_data = np.array(ave_data)\n",
    "offsets = np.random.normal(loc=0.0, scale=0.1, size=len(tta))\n",
    "ave_data += offsets\n",
    "err_offsets = np.random.normal(loc=0.0, scale=0.1, size=len(tta)) # adding std offsets\n",
    "err_data = np.array(err_data) + err_offsets # adding std offsets\n",
    "\n",
    "# plot mock correlations\n",
    "A_gw = 1e-15\n",
    "\n",
    "# Add noise to A2_gw\n",
    "A2_mean = A_gw**2\n",
    "A2_std = 0.1 * A2_mean\n",
    "A2_gw = np.random.normal(A2_mean, A2_std, size=len(tta))\n",
    "\n",
    "# Propagate uncertainty to ccp and Dccp\n",
    "ccp = A2_gw * ave_data\n",
    "Dccp = np.sqrt((ave_data**2) * (A2_std**2) + (A2_gw**2) * (err_data**2))\n",
    "\n",
    "Dccp[Dccp < 0] = 0\n",
    "# np.savetxt('mock.txt', np.array([tta, ccp, Dccp]))\n",
    "\n",
    "fig, ax = plt.subplots()\n",
    "ax.errorbar(tta*180/np.pi, ccp, yerr = Dccp, \\\n",
    "            label = 'mock correlations', \\\n",
    "            fmt = 'kx', markersize = 4, \\\n",
    "            ecolor = 'gray', elinewidth = 1.5, capsize = 1.5)\n",
    "ax.set_xlim(0, 180)\n",
    "ax.set_xlabel(r'$\\zeta$ [degrees]')\n",
    "ax.set_ylabel(r'$A^2 \\Gamma_{ab}$')\n",
    "ax.legend(loc = 'lower right', prop = {'size': 9.5})\n",
    "plt.show()"
   ]
  }
 ],
 "metadata": {
  "kernelspec": {
   "display_name": "Python 3 (ipykernel)",
   "language": "python",
   "name": "python3"
  },
  "language_info": {
   "codemirror_mode": {
    "name": "ipython",
    "version": 3
   },
   "file_extension": ".py",
   "mimetype": "text/x-python",
   "name": "python",
   "nbconvert_exporter": "python",
   "pygments_lexer": "ipython3",
   "version": "3.9.12"
  }
 },
 "nbformat": 4,
 "nbformat_minor": 5
}
